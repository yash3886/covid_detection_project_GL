{
 "cells": [
  {
   "cell_type": "code",
   "execution_count": null,
   "metadata": {
    "colab": {},
    "colab_type": "code",
    "executionInfo": {
     "elapsed": 3280,
     "status": "ok",
     "timestamp": 1595575977319,
     "user": {
      "displayName": "D. Narayana",
      "photoUrl": "",
      "userId": "17572554762277395202"
     },
     "user_tz": -330
    },
    "id": "h5OQ9yl_um_T"
   },
   "outputs": [],
   "source": [
    "import tensorflow as tf\n",
    "import numpy as np\n",
    "from tensorflow.keras.layers import Dense, Flatten, Input\n",
    "from tensorflow.keras.preprocessing.image import ImageDataGenerator\n",
    "from sklearn.metrics import confusion_matrix\n",
    "from tensorflow.keras import layers\n",
    "from os import listdir"
   ]
  },
  {
   "cell_type": "code",
   "execution_count": null,
   "metadata": {
    "colab": {
     "base_uri": "https://localhost:8080/",
     "height": 124
    },
    "colab_type": "code",
    "executionInfo": {
     "elapsed": 171897,
     "status": "ok",
     "timestamp": 1595576165204,
     "user": {
      "displayName": "D. Narayana",
      "photoUrl": "",
      "userId": "17572554762277395202"
     },
     "user_tz": -330
    },
    "id": "JHj4ZiHPvWlF",
    "outputId": "2a91a4e9-625d-4755-af42-319aba358093"
   },
   "outputs": [],
   "source": [
    "from google.colab import drive\n",
    "drive.mount('/content/drive')"
   ]
  },
  {
   "cell_type": "code",
   "execution_count": 10,
   "metadata": {
    "colab": {
     "base_uri": "https://localhost:8080/",
     "height": 34
    },
    "colab_type": "code",
    "executionInfo": {
     "elapsed": 1062,
     "status": "ok",
     "timestamp": 1595576437080,
     "user": {
      "displayName": "D. Narayana",
      "photoUrl": "",
      "userId": "17572554762277395202"
     },
     "user_tz": -330
    },
    "id": "M1nJf43MwQKl",
    "outputId": "e89175b7-3ed8-447c-f4a7-3ac3c63a7abf"
   },
   "outputs": [
    {
     "data": {
      "text/plain": [
       "['COVID', 'bacterial_viral']"
      ]
     },
     "execution_count": 10,
     "metadata": {
      "tags": []
     },
     "output_type": "execute_result"
    }
   ],
   "source": [
    "data_list_model2c = listdir('/content/drive/My Drive/masterClass/tf2.0/covidDetection/train')\n",
    "data_list_model2c\n"
   ]
  },
  {
   "cell_type": "code",
   "execution_count": 11,
   "metadata": {
    "colab": {},
    "colab_type": "code",
    "executionInfo": {
     "elapsed": 1650,
     "status": "ok",
     "timestamp": 1595576495870,
     "user": {
      "displayName": "D. Narayana",
      "photoUrl": "",
      "userId": "17572554762277395202"
     },
     "user_tz": -330
    },
    "id": "sV3BEFSLvWnI"
   },
   "outputs": [],
   "source": [
    "DATASET_PATH_model2c  = '/content/drive/My Drive/masterClass/tf2.0/covidDetection/train'\n",
    "train_dir_model2c =  '/content/drive/My Drive/masterClass/tf2.0/covidDetection/train'\n",
    "test_dir_model2c =  '/content/drive/My Drive/masterClass/tf2.0/covidDetection/test'"
   ]
  },
  {
   "cell_type": "code",
   "execution_count": 12,
   "metadata": {
    "colab": {},
    "colab_type": "code",
    "executionInfo": {
     "elapsed": 1477,
     "status": "ok",
     "timestamp": 1595576510714,
     "user": {
      "displayName": "D. Narayana",
      "photoUrl": "",
      "userId": "17572554762277395202"
     },
     "user_tz": -330
    },
    "id": "cY0ue_aBvWri"
   },
   "outputs": [],
   "source": [
    "IMAGE_SIZE    = (150, 150)\n",
    "NUM_CLASSES   = len(data_list_model2c)\n",
    "BATCH_SIZE    = 10  # try reducing batch size or freeze more layers if your GPU runs out of memory\n",
    "NUM_EPOCHS    = 100\n",
    "LEARNING_RATE = 0.0001"
   ]
  },
  {
   "cell_type": "code",
   "execution_count": 14,
   "metadata": {
    "colab": {
     "base_uri": "https://localhost:8080/",
     "height": 72
    },
    "colab_type": "code",
    "executionInfo": {
     "elapsed": 1782,
     "status": "ok",
     "timestamp": 1595576549603,
     "user": {
      "displayName": "D. Narayana",
      "photoUrl": "",
      "userId": "17572554762277395202"
     },
     "user_tz": -330
    },
    "id": "xd8puxfgvWtf",
    "outputId": "ca3b32df-1b15-4f2a-d8ef-c2d7d8f0d077"
   },
   "outputs": [
    {
     "name": "stderr",
     "output_type": "stream",
     "text": [
      "/usr/local/lib/python3.6/dist-packages/keras_preprocessing/image/image_data_generator.py:342: UserWarning: This ImageDataGenerator specifies `zca_whitening` which overrides setting of`featurewise_std_normalization`.\n",
      "  warnings.warn('This ImageDataGenerator specifies '\n"
     ]
    }
   ],
   "source": [
    "#Train datagen here is a preprocessor\n",
    "train_datagen = ImageDataGenerator(rescale=1./255,\n",
    "                                   rotation_range=50,\n",
    "                                   featurewise_center = True,\n",
    "                                   featurewise_std_normalization = True,\n",
    "                                   width_shift_range=0.2,\n",
    "                                   height_shift_range=0.2,\n",
    "                                   shear_range=0.25,\n",
    "                                   zoom_range=0.1,\n",
    "                                   zca_whitening = True,\n",
    "                                   channel_shift_range = 20,\n",
    "                                   horizontal_flip = True ,\n",
    "                                   vertical_flip = True ,\n",
    "                                   fill_mode='constant' )"
   ]
  },
  {
   "cell_type": "code",
   "execution_count": 15,
   "metadata": {
    "colab": {
     "base_uri": "https://localhost:8080/",
     "height": 34
    },
    "colab_type": "code",
    "executionInfo": {
     "elapsed": 1248,
     "status": "ok",
     "timestamp": 1595576553415,
     "user": {
      "displayName": "D. Narayana",
      "photoUrl": "",
      "userId": "17572554762277395202"
     },
     "user_tz": -330
    },
    "id": "6mefzko8vW2T",
    "outputId": "6efd0441-c54c-42e7-a003-8ef660ee0c49"
   },
   "outputs": [
    {
     "name": "stdout",
     "output_type": "stream",
     "text": [
      "Found 175 images belonging to 2 classes.\n"
     ]
    }
   ],
   "source": [
    "train_batches = train_datagen.flow_from_directory(DATASET_PATH_model2c,\n",
    "                                                  target_size=IMAGE_SIZE,\n",
    "                                                  shuffle=True,\n",
    "                                                  batch_size=BATCH_SIZE,\n",
    "                                                  subset = \"training\",\n",
    "                                                  seed=42,\n",
    "                                                  class_mode=\"categorical\",)"
   ]
  },
  {
   "cell_type": "code",
   "execution_count": 16,
   "metadata": {
    "colab": {
     "base_uri": "https://localhost:8080/",
     "height": 34
    },
    "colab_type": "code",
    "executionInfo": {
     "elapsed": 1186,
     "status": "ok",
     "timestamp": 1595576570236,
     "user": {
      "displayName": "D. Narayana",
      "photoUrl": "",
      "userId": "17572554762277395202"
     },
     "user_tz": -330
    },
    "id": "bfZI37B0xiHV",
    "outputId": "d0baa88a-7774-4d84-deb1-6a22a90a1aa1"
   },
   "outputs": [
    {
     "name": "stdout",
     "output_type": "stream",
     "text": [
      "Found 0 images belonging to 2 classes.\n"
     ]
    }
   ],
   "source": [
    "valid_batches = train_datagen.flow_from_directory(DATASET_PATH_model2c,\n",
    "                                                  target_size=IMAGE_SIZE,\n",
    "                                                  shuffle=True,\n",
    "                                                  batch_size=BATCH_SIZE,\n",
    "                                                  subset = \"validation\",\n",
    "                                                  seed=42,\n",
    "                                                  class_mode=\"categorical\",)"
   ]
  },
  {
   "cell_type": "code",
   "execution_count": 17,
   "metadata": {
    "colab": {},
    "colab_type": "code",
    "executionInfo": {
     "elapsed": 1822,
     "status": "ok",
     "timestamp": 1595576608454,
     "user": {
      "displayName": "D. Narayana",
      "photoUrl": "",
      "userId": "17572554762277395202"
     },
     "user_tz": -330
    },
    "id": "X_QRSCrJxmMd"
   },
   "outputs": [],
   "source": [
    "vgg16_model = tf.keras.applications.vgg16.VGG16(weights='imagenet', include_top=False, input_tensor=Input(shape=(150,150,3)))"
   ]
  },
  {
   "cell_type": "code",
   "execution_count": 18,
   "metadata": {
    "colab": {},
    "colab_type": "code",
    "executionInfo": {
     "elapsed": 1899,
     "status": "ok",
     "timestamp": 1595576624831,
     "user": {
      "displayName": "D. Narayana",
      "photoUrl": "",
      "userId": "17572554762277395202"
     },
     "user_tz": -330
    },
    "id": "gygTn7brxmRg"
   },
   "outputs": [],
   "source": [
    "for layer in vgg16_model.layers[:-4]:\n",
    "    layer.trainable = False\n",
    "model2c = tf.keras.Sequential()\n",
    "model2c.add(vgg16_model)\n",
    "model2c.add(Flatten())\n",
    "model2c.add(Dense(64, activation='relu'))\n",
    "model2c.add(layers.Dense(2, activation='softmax'))"
   ]
  },
  {
   "cell_type": "code",
   "execution_count": 19,
   "metadata": {
    "colab": {},
    "colab_type": "code",
    "executionInfo": {
     "elapsed": 1395,
     "status": "ok",
     "timestamp": 1595576638526,
     "user": {
      "displayName": "D. Narayana",
      "photoUrl": "",
      "userId": "17572554762277395202"
     },
     "user_tz": -330
    },
    "id": "tlawRR9KxmTd"
   },
   "outputs": [],
   "source": [
    "model2c.compile(loss='categorical_crossentropy', optimizer=tf.keras.optimizers.Adam(lr=LEARNING_RATE), metrics=['accuracy'])"
   ]
  },
  {
   "cell_type": "code",
   "execution_count": 20,
   "metadata": {
    "colab": {},
    "colab_type": "code",
    "executionInfo": {
     "elapsed": 1348,
     "status": "ok",
     "timestamp": 1595576660012,
     "user": {
      "displayName": "D. Narayana",
      "photoUrl": "",
      "userId": "17572554762277395202"
     },
     "user_tz": -330
    },
    "id": "0eN26bkexmYC"
   },
   "outputs": [],
   "source": [
    "STEP_SIZE_TRAIN=train_batches.n//train_batches.batch_size\n",
    "STEP_SIZE_VALID=valid_batches.n//valid_batches.batch_size"
   ]
  },
  {
   "cell_type": "code",
   "execution_count": 21,
   "metadata": {
    "colab": {
     "base_uri": "https://localhost:8080/",
     "height": 352
    },
    "colab_type": "code",
    "executionInfo": {
     "elapsed": 246375,
     "status": "ok",
     "timestamp": 1595576916206,
     "user": {
      "displayName": "D. Narayana",
      "photoUrl": "",
      "userId": "17572554762277395202"
     },
     "user_tz": -330
    },
    "id": "T-PV5Z_txmZx",
    "outputId": "86ad3c39-6789-4bdc-a593-ffa8828b1f87"
   },
   "outputs": [
    {
     "name": "stdout",
     "output_type": "stream",
     "text": [
      "WARNING:tensorflow:From <ipython-input-21-1eb32e3b8043>:1: Model.fit_generator (from tensorflow.python.keras.engine.training) is deprecated and will be removed in a future version.\n",
      "Instructions for updating:\n",
      "Please use Model.fit, which supports generators.\n"
     ]
    },
    {
     "name": "stderr",
     "output_type": "stream",
     "text": [
      "/usr/local/lib/python3.6/dist-packages/keras_preprocessing/image/image_data_generator.py:720: UserWarning: This ImageDataGenerator specifies `featurewise_center`, but it hasn't been fit on any training data. Fit it first by calling `.fit(numpy_data)`.\n",
      "  warnings.warn('This ImageDataGenerator specifies '\n",
      "/usr/local/lib/python3.6/dist-packages/keras_preprocessing/image/image_data_generator.py:739: UserWarning: This ImageDataGenerator specifies `zca_whitening`, but it hasn't been fit on any training data. Fit it first by calling `.fit(numpy_data)`.\n",
      "  warnings.warn('This ImageDataGenerator specifies '\n"
     ]
    },
    {
     "name": "stdout",
     "output_type": "stream",
     "text": [
      "Epoch 1/5\n",
      "17/17 [==============================] - 51s 3s/step - loss: 0.7243 - accuracy: 0.5212\n",
      "Epoch 2/5\n",
      "17/17 [==============================] - 43s 3s/step - loss: 0.3987 - accuracy: 0.8303\n",
      "Epoch 3/5\n",
      "17/17 [==============================] - 43s 3s/step - loss: 0.2474 - accuracy: 0.8727\n",
      "Epoch 4/5\n",
      "17/17 [==============================] - 44s 3s/step - loss: 0.2811 - accuracy: 0.8848\n",
      "Epoch 5/5\n",
      "17/17 [==============================] - 43s 3s/step - loss: 0.1014 - accuracy: 0.9818\n"
     ]
    },
    {
     "data": {
      "text/plain": [
       "<tensorflow.python.keras.callbacks.History at 0x7f93614190b8>"
      ]
     },
     "execution_count": 21,
     "metadata": {
      "tags": []
     },
     "output_type": "execute_result"
    }
   ],
   "source": [
    "model2c.fit_generator(train_batches, steps_per_epoch =STEP_SIZE_TRAIN, epochs= 5, verbose=True)"
   ]
  },
  {
   "cell_type": "code",
   "execution_count": 22,
   "metadata": {
    "colab": {
     "base_uri": "https://localhost:8080/",
     "height": 209
    },
    "colab_type": "code",
    "executionInfo": {
     "elapsed": 87704,
     "status": "ok",
     "timestamp": 1595577108600,
     "user": {
      "displayName": "D. Narayana",
      "photoUrl": "",
      "userId": "17572554762277395202"
     },
     "user_tz": -330
    },
    "id": "L69MN9D-xmet",
    "outputId": "341f8e12-1130-4de6-a82d-02c99f9133d2"
   },
   "outputs": [
    {
     "name": "stdout",
     "output_type": "stream",
     "text": [
      "Found 175 images belonging to 2 classes.\n",
      "WARNING:tensorflow:From <ipython-input-22-c371eaeeff77>:5: Model.evaluate_generator (from tensorflow.python.keras.engine.training) is deprecated and will be removed in a future version.\n",
      "Instructions for updating:\n",
      "Please use Model.evaluate, which supports generators.\n",
      "175/175 [==============================] - 43s 245ms/step - loss: 0.1059 - accuracy: 0.9600\n",
      "Train loss: 0.10593054443597794 Train accuracy:  0.9599999785423279\n",
      "WARNING:tensorflow:From <ipython-input-22-c371eaeeff77>:8: Model.predict_generator (from tensorflow.python.keras.engine.training) is deprecated and will be removed in a future version.\n",
      "Instructions for updating:\n",
      "Please use Model.predict, which supports generators.\n",
      "[[75  0]\n",
      " [ 7 93]]\n"
     ]
    }
   ],
   "source": [
    "Train_DataGeneration = ImageDataGenerator(rescale=1. / 255)\n",
    "TrainBatch = Train_DataGeneration.flow_from_directory(train_dir_model2c, target_size=IMAGE_SIZE, batch_size=1, shuffle=False, seed=42, class_mode=\"categorical\")\n",
    "\n",
    "TrainBatch.reset()\n",
    "trainResult = model2c.evaluate_generator(TrainBatch, steps = len(TrainBatch), use_multiprocessing = False, verbose = 1, workers=1)\n",
    "print('Train loss:' , trainResult[0], 'Train accuracy: ', trainResult[1])\n",
    "\n",
    "prediction = model2c.predict_generator(TrainBatch, steps = len(TrainBatch))\n",
    "Predicted_class = np.argmax(prediction, axis=1)\n",
    "\n",
    "print(confusion_matrix(TrainBatch.classes, Predicted_class))"
   ]
  },
  {
   "cell_type": "code",
   "execution_count": 23,
   "metadata": {
    "colab": {
     "base_uri": "https://localhost:8080/",
     "height": 104
    },
    "colab_type": "code",
    "executionInfo": {
     "elapsed": 30148,
     "status": "ok",
     "timestamp": 1595577238176,
     "user": {
      "displayName": "D. Narayana",
      "photoUrl": "",
      "userId": "17572554762277395202"
     },
     "user_tz": -330
    },
    "id": "W2nU9iAzxmLM",
    "outputId": "bdb59010-85c6-4e99-b711-c77d42e26535"
   },
   "outputs": [
    {
     "name": "stdout",
     "output_type": "stream",
     "text": [
      "Found 50 images belonging to 2 classes.\n",
      "50/50 [==============================] - 14s 289ms/step - loss: 0.0292 - accuracy: 1.0000\n",
      "Test loss: 0.02915564738214016 Test accuracy:  1.0\n",
      "[[25  0]\n",
      " [ 0 25]]\n"
     ]
    }
   ],
   "source": [
    "## Test accuracy\n",
    "Test_DataGeneration = ImageDataGenerator(rescale=1. / 255)\n",
    "TestingBatch = Test_DataGeneration.flow_from_directory(test_dir_model2c, target_size=IMAGE_SIZE, batch_size=1, shuffle=False, seed=42, class_mode=\"categorical\")\n",
    "\n",
    "TestingBatch.reset()\n",
    "testResult = model2c.evaluate_generator(TestingBatch, steps = len(TestingBatch), use_multiprocessing = False, verbose = 1, workers=1)\n",
    "print('Test loss:' , testResult[0], 'Test accuracy: ', testResult[1])\n",
    "\n",
    "prediction = model2c.predict_generator(TestingBatch, steps = len(TestingBatch))\n",
    "Predicted_class = np.argmax(prediction, axis=1)\n",
    "\n",
    "print(confusion_matrix(TestingBatch.classes, Predicted_class))"
   ]
  }
 ],
 "metadata": {
  "colab": {
   "authorship_tag": "ABX9TyP0J1/Pr20jQvBSnPZ0xi/M",
   "collapsed_sections": [],
   "name": "covidDetection.ipynb",
   "provenance": []
  },
  "kernelspec": {
   "display_name": "Python 3 (ipykernel)",
   "language": "python",
   "name": "python3"
  },
  "language_info": {
   "codemirror_mode": {
    "name": "ipython",
    "version": 3
   },
   "file_extension": ".py",
   "mimetype": "text/x-python",
   "name": "python",
   "nbconvert_exporter": "python",
   "pygments_lexer": "ipython3",
   "version": "3.10.7"
  }
 },
 "nbformat": 4,
 "nbformat_minor": 1
}
